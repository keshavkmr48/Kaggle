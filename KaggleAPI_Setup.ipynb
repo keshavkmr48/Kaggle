{
  "nbformat": 4,
  "nbformat_minor": 0,
  "metadata": {
    "colab": {
      "name": "KaggleAPI Setup.ipynb",
      "provenance": [],
      "include_colab_link": true
    },
    "kernelspec": {
      "name": "python3",
      "display_name": "Python 3"
    },
    "accelerator": "GPU"
  },
  "cells": [
    {
      "cell_type": "markdown",
      "metadata": {
        "id": "view-in-github",
        "colab_type": "text"
      },
      "source": [
        "<a href=\"https://colab.research.google.com/github/keshavkmr48/Kaggle/blob/master/KaggleAPI_Setup.ipynb\" target=\"_parent\"><img src=\"https://colab.research.google.com/assets/colab-badge.svg\" alt=\"Open In Colab\"/></a>"
      ]
    },
    {
      "cell_type": "code",
      "metadata": {
        "id": "DEawC4SRmMjn",
        "colab_type": "code",
        "colab": {}
      },
      "source": [
        "!pip install kaggle --upgrade"
      ],
      "execution_count": 0,
      "outputs": []
    },
    {
      "cell_type": "code",
      "metadata": {
        "id": "KQP0kSicnN2w",
        "colab_type": "code",
        "colab": {}
      },
      "source": [
        "!kaggle --version"
      ],
      "execution_count": 0,
      "outputs": []
    },
    {
      "cell_type": "code",
      "metadata": {
        "id": "WbbNwWrvnQFb",
        "colab_type": "code",
        "colab": {}
      },
      "source": [
        "! mkdir .kaggle"
      ],
      "execution_count": 0,
      "outputs": []
    },
    {
      "cell_type": "code",
      "metadata": {
        "id": "ALBLf3CcoHws",
        "colab_type": "code",
        "colab": {}
      },
      "source": [
        "import json\n",
        "token = {\"username\":\"keshavkmr48\",\"key\":\"014d22aa9430a95daaf028ec3e3463a2\"}\n",
        "with open('/content/.kaggle/kaggle.json','w') as file:\n",
        "  json.dump(token,file)"
      ],
      "execution_count": 0,
      "outputs": []
    },
    {
      "cell_type": "code",
      "metadata": {
        "id": "ULt4xS_moka3",
        "colab_type": "code",
        "colab": {}
      },
      "source": [
        "! cp /content/.kaggle/kaggle.json ~/.kaggle/kaggle.json\n",
        "!kaggle config set -n path -v{/content}"
      ],
      "execution_count": 0,
      "outputs": []
    },
    {
      "cell_type": "code",
      "metadata": {
        "id": "bRMwu-SBpEv4",
        "colab_type": "code",
        "colab": {}
      },
      "source": [
        "!chmod 600 /root/.kaggle/kaggle.json"
      ],
      "execution_count": 0,
      "outputs": []
    },
    {
      "cell_type": "code",
      "metadata": {
        "id": "uu4E1K6Fp95F",
        "colab_type": "code",
        "colab": {}
      },
      "source": [
        "# download competition data\n",
        "!kaggle competitions download -c data-science-bowl-2019"
      ],
      "execution_count": 0,
      "outputs": []
    },
    {
      "cell_type": "code",
      "metadata": {
        "id": "DQ_2nc3LrQLU",
        "colab_type": "code",
        "colab": {}
      },
      "source": [
        "# list data in the downloaded folder\n",
        "os.listdir('{/content}/competitions/data-science-bowl-2019')"
      ],
      "execution_count": 0,
      "outputs": []
    },
    {
      "cell_type": "code",
      "metadata": {
        "id": "NRbm1-GprzbJ",
        "colab_type": "code",
        "colab": {}
      },
      "source": [
        ""
      ],
      "execution_count": 0,
      "outputs": []
    }
  ]
}